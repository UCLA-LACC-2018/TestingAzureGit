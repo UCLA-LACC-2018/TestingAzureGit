{
 "cells": [
  {
   "cell_type": "markdown",
   "metadata": {},
   "source": [
    "# Bubble Sort and Comparison to Python Sorting Algorithm\n",
    "\n",
    "In this exercise you will implement the bubble sort algorithm, analyze it's performance, and compare its performance with Python's built-in algorithm.\n",
    "\n",
    "First, import the modules we need:"
   ]
  },
  {
   "cell_type": "code",
   "execution_count": 9,
   "metadata": {},
   "outputs": [],
   "source": [
    "from graphics import *\n",
    "from tools import *\n",
    "import sys\n",
    "import re\n",
    "import math\n",
    "import random\n",
    "import time"
   ]
  },
  {
   "cell_type": "markdown",
   "metadata": {},
   "source": [
    "Then implement the bubbleSort() function below:"
   ]
  },
  {
   "cell_type": "code",
   "execution_count": 7,
   "metadata": {},
   "outputs": [],
   "source": [
    "def mySort(numbers):\n",
    "    sv.win.getMouse()\n",
    "    numbers = bubbleSort(numbers)\n",
    "    sv.updateData(numbers)\n",
    "    return numbers\n",
    "\n",
    "def bubbleSort(List):\n",
    "    for i in range(len(List) - 1):\n",
    "        for j in range(len(List) - 1):\n",
    "            if List[j] > List[j+1]:\n",
    "                temp = List[j+1]\n",
    "                List[j+1] = List[j]\n",
    "                List[j] = temp\n",
    "#write your code here \n",
    "    return List\n",
    "\n",
    "def cmp(a, b):\n",
    "    return (a > b) - (a < b) "
   ]
  },
  {
   "cell_type": "markdown",
   "metadata": {},
   "source": [
    "After you finished implementing bubbleSort(), run the next cell. Click anywhere in the window that popped up to start your sorting algorithm. Once the cell prints \"Finished\", click again to close the window."
   ]
  },
  {
   "cell_type": "code",
   "execution_count": 4,
   "metadata": {},
   "outputs": [
    {
     "ename": "NameError",
     "evalue": "name 'sortVisualizer' is not defined",
     "output_type": "error",
     "traceback": [
      "\u001b[0;31m---------------------------------------------------------------------------\u001b[0m",
      "\u001b[0;31mNameError\u001b[0m                                 Traceback (most recent call last)",
      "\u001b[0;32m<ipython-input-4-baf359f5d48a>\u001b[0m in \u001b[0;36m<module>\u001b[0;34m()\u001b[0m\n\u001b[1;32m      1\u001b[0m \u001b[0;32mglobal\u001b[0m \u001b[0msv\u001b[0m\u001b[0;34m\u001b[0m\u001b[0m\n\u001b[0;32m----> 2\u001b[0;31m \u001b[0msv\u001b[0m \u001b[0;34m=\u001b[0m \u001b[0msortVisualizer\u001b[0m\u001b[0;34m(\u001b[0m\u001b[0;34m)\u001b[0m\u001b[0;34m\u001b[0m\u001b[0m\n\u001b[0m\u001b[1;32m      3\u001b[0m \u001b[0mN\u001b[0m \u001b[0;34m=\u001b[0m \u001b[0;36m60\u001b[0m\u001b[0;34m\u001b[0m\u001b[0m\n\u001b[1;32m      4\u001b[0m \u001b[0mnumbers\u001b[0m \u001b[0;34m=\u001b[0m \u001b[0mlist\u001b[0m\u001b[0;34m(\u001b[0m\u001b[0mrange\u001b[0m\u001b[0;34m(\u001b[0m\u001b[0;36m0\u001b[0m\u001b[0;34m,\u001b[0m \u001b[0mN\u001b[0m\u001b[0;34m+\u001b[0m\u001b[0;36m1\u001b[0m\u001b[0;34m)\u001b[0m\u001b[0;34m)\u001b[0m\u001b[0;34m\u001b[0m\u001b[0m\n\u001b[1;32m      5\u001b[0m \u001b[0;34m\u001b[0m\u001b[0m\n",
      "\u001b[0;31mNameError\u001b[0m: name 'sortVisualizer' is not defined"
     ]
    }
   ],
   "source": [
    "global sv\n",
    "sv = sortVisualizer()\n",
    "N = 60\n",
    "numbers = list(range(0, N+1))\n",
    "\n",
    "# randomly shuffle the numbers\n",
    "random.shuffle(numbers)\n",
    "sv.updateData(numbers)\n",
    "numbers = mySort(numbers)   \n",
    "\n",
    "# Print \"Finished\" when sorting is done\n",
    "sv.updateData(numbers)\n",
    "print(\"Finished\")\n",
    "\n",
    "sv.win.getMouse()\n",
    "sv.win.close()"
   ]
  },
  {
   "cell_type": "markdown",
   "metadata": {},
   "source": [
    "Python has a sort function, that does not use Bubble sort. Let's compare their performance.\n",
    "\n",
    "We want to run both algorithms (our Bubble sort and Python sort), on different list sizes (6000: 26000 in increments of 2000) . In each run, we measure the runtime.\n",
    "\n",
    "First, specify the list size:"
   ]
  },
  {
   "cell_type": "code",
   "execution_count": null,
   "metadata": {},
   "outputs": [],
   "source": [
    "N = input(\"Enter N: \")\n",
    "print (\"N= %s\"%N)\n",
    "M = int(N)\n",
    "numbers = list(range(0, M+1))"
   ]
  },
  {
   "cell_type": "markdown",
   "metadata": {},
   "source": [
    "Then run both sorting algorithms, and compare the runtime."
   ]
  },
  {
   "cell_type": "code",
   "execution_count": null,
   "metadata": {},
   "outputs": [],
   "source": [
    "# randomly shuffle the numbers\n",
    "random.shuffle(numbers)\n",
    "numbersCopy=list(numbers)\n",
    "#sv.updateData(numbers)\n",
    "print (\"Python sort uses the TimSort algorithm https://en.wikipedia.org/wiki/Timsort\")\n",
    "pythonSortStartTime=time.time();\n",
    "numbersCopy.sort()\n",
    "print(\"--- %s seconds ---\" % (time.time() - pythonSortStartTime))\n",
    "print(\"Python sort is done!\\n\")\n",
    "bubbleStartTime=time.time();\n",
    "numbersBubble = bubbleSort(numbers)\n",
    "print(\"--- %s seconds ---\" % (time.time() - bubbleStartTime))\n",
    "print(\"Bubble sort is done!\\n\")\n",
    "cmpRes=cmp(numbers,numbersCopy)\n",
    "if cmpRes == 0:\n",
    "    print (\"After sorting both lists are identical\")\n",
    "else:\n",
    "    print (\"The two sorted lists are DIFFERENT!!\")"
   ]
  }
 ],
 "metadata": {
  "kernelspec": {
   "display_name": "Python 3",
   "language": "python",
   "name": "python3"
  },
  "language_info": {
   "codemirror_mode": {
    "name": "ipython",
    "version": 3
   },
   "file_extension": ".py",
   "mimetype": "text/x-python",
   "name": "python",
   "nbconvert_exporter": "python",
   "pygments_lexer": "ipython3",
   "version": "3.5.4"
  }
 },
 "nbformat": 4,
 "nbformat_minor": 2
}
