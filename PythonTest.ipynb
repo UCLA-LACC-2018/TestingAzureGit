{
 "cells": [
  {
   "cell_type": "code",
   "execution_count": 1,
   "metadata": {},
   "outputs": [],
   "source": [
    "import tensorflow"
   ]
  },
  {
   "cell_type": "code",
   "execution_count": 2,
   "metadata": {},
   "outputs": [
    {
     "name": "stderr",
     "output_type": "stream",
     "text": [
      "/home/nbuser/anaconda3_501/lib/python3.6/site-packages/h5py/__init__.py:36: FutureWarning: Conversion of the second argument of issubdtype from `float` to `np.floating` is deprecated. In future, it will be treated as `np.float64 == np.dtype(float).type`.\n",
      "  from ._conv import register_converters as _register_converters\n",
      "Using TensorFlow backend.\n"
     ]
    }
   ],
   "source": [
    "import keras"
   ]
  },
  {
   "cell_type": "markdown",
   "metadata": {},
   "source": [
    "# Playing with the Simple Example with Keras"
   ]
  },
  {
   "cell_type": "code",
   "execution_count": 4,
   "metadata": {},
   "outputs": [
    {
     "name": "stdout",
     "output_type": "stream",
     "text": [
      "Epoch 1/10\n",
      "1000/1000 [==============================] - 2s 2ms/step - loss: 0.7247 - acc: 0.5080\n",
      "Epoch 2/10\n",
      "1000/1000 [==============================] - 1s 511us/step - loss: 0.7019 - acc: 0.4950\n",
      "Epoch 3/10\n",
      "1000/1000 [==============================] - 1s 562us/step - loss: 0.6961 - acc: 0.5380\n",
      "Epoch 4/10\n",
      "1000/1000 [==============================] - 0s 466us/step - loss: 0.6896 - acc: 0.5290\n",
      "Epoch 5/10\n",
      "1000/1000 [==============================] - 1s 559us/step - loss: 0.6899 - acc: 0.5390\n",
      "Epoch 6/10\n",
      "1000/1000 [==============================] - 1s 658us/step - loss: 0.6851 - acc: 0.5430 0s - loss: 0.6886 - ac\n",
      "Epoch 7/10\n",
      "1000/1000 [==============================] - 1s 512us/step - loss: 0.6807 - acc: 0.5610 0s - loss: 0.6841 - acc: \n",
      "Epoch 8/10\n",
      "1000/1000 [==============================] - 1s 553us/step - loss: 0.6810 - acc: 0.5690\n",
      "Epoch 9/10\n",
      "1000/1000 [==============================] - 1s 574us/step - loss: 0.6741 - acc: 0.5870\n",
      "Epoch 10/10\n",
      "1000/1000 [==============================] - 1s 540us/step - loss: 0.6714 - acc: 0.5820\n"
     ]
    },
    {
     "data": {
      "text/plain": [
       "<keras.callbacks.History at 0x7f8178ac8240>"
      ]
     },
     "execution_count": 4,
     "metadata": {},
     "output_type": "execute_result"
    }
   ],
   "source": [
    "import keras\n",
    "from keras.datasets import mnist\n",
    "from keras.models import Sequential\n",
    "from keras.layers import Dense, Dropout, Flatten\n",
    "from keras.layers import Conv2D, MaxPooling2D\n",
    "from keras import backend as K\n",
    "\n",
    "model = Sequential()\n",
    "model.add(Dense(32, activation='relu', input_dim=100))\n",
    "model.add(Dense(1, activation='sigmoid'))\n",
    "model.compile(optimizer='rmsprop',\n",
    "              loss='binary_crossentropy',\n",
    "              metrics=['accuracy'])\n",
    "\n",
    "# Generate dummy data\n",
    "import numpy as np\n",
    "data = np.random.random((1000, 100))\n",
    "labels = np.random.randint(2, size=(1000, 1))\n",
    "\n",
    "# Train the model, iterating on the data in batches of 32 samples\n",
    "model.fit(data, labels, epochs=10, batch_size=32)"
   ]
  },
  {
   "cell_type": "code",
   "execution_count": null,
   "metadata": {},
   "outputs": [],
   "source": []
  }
 ],
 "metadata": {
  "kernelspec": {
   "display_name": "Python 3.6",
   "language": "python",
   "name": "python36"
  },
  "language_info": {
   "codemirror_mode": {
    "name": "ipython",
    "version": 3
   },
   "file_extension": ".py",
   "mimetype": "text/x-python",
   "name": "python",
   "nbconvert_exporter": "python",
   "pygments_lexer": "ipython3",
   "version": "3.6.3"
  }
 },
 "nbformat": 4,
 "nbformat_minor": 2
}
