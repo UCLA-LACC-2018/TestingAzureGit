{
 "cells": [
  {
   "cell_type": "code",
   "execution_count": 1,
   "metadata": {},
   "outputs": [],
   "source": [
    "import tensorflow"
   ]
  },
  {
   "cell_type": "code",
   "execution_count": 2,
   "metadata": {},
   "outputs": [
    {
     "name": "stderr",
     "output_type": "stream",
     "text": [
      "/home/nbuser/anaconda3_501/lib/python3.6/site-packages/h5py/__init__.py:36: FutureWarning: Conversion of the second argument of issubdtype from `float` to `np.floating` is deprecated. In future, it will be treated as `np.float64 == np.dtype(float).type`.\n",
      "  from ._conv import register_converters as _register_converters\n",
      "Using TensorFlow backend.\n"
     ]
    }
   ],
   "source": [
    "import keras"
   ]
  },
  {
   "cell_type": "markdown",
   "metadata": {},
   "source": [
    "# Playing with the Simple Example with Keras"
   ]
  },
  {
   "cell_type": "code",
   "execution_count": 3,
   "metadata": {},
   "outputs": [
    {
     "name": "stdout",
     "output_type": "stream",
     "text": [
      "Epoch 1/10\n",
      "1000/1000 [==============================] - 0s 295us/step - loss: 0.7108 - acc: 0.4970\n",
      "Epoch 2/10\n",
      "1000/1000 [==============================] - 0s 79us/step - loss: 0.6964 - acc: 0.5220\n",
      "Epoch 3/10\n",
      "1000/1000 [==============================] - 0s 77us/step - loss: 0.6931 - acc: 0.5310\n",
      "Epoch 4/10\n",
      "1000/1000 [==============================] - 0s 68us/step - loss: 0.6827 - acc: 0.5570\n",
      "Epoch 5/10\n",
      "1000/1000 [==============================] - 0s 61us/step - loss: 0.6777 - acc: 0.5550\n",
      "Epoch 6/10\n",
      "1000/1000 [==============================] - 0s 59us/step - loss: 0.6734 - acc: 0.5630\n",
      "Epoch 7/10\n",
      "1000/1000 [==============================] - 0s 61us/step - loss: 0.6694 - acc: 0.5790\n",
      "Epoch 8/10\n",
      "1000/1000 [==============================] - 0s 179us/step - loss: 0.6676 - acc: 0.5980\n",
      "Epoch 9/10\n",
      "1000/1000 [==============================] - 0s 68us/step - loss: 0.6634 - acc: 0.6100\n",
      "Epoch 10/10\n",
      "1000/1000 [==============================] - 0s 78us/step - loss: 0.6583 - acc: 0.6150\n"
     ]
    },
    {
     "data": {
      "text/plain": [
       "<keras.callbacks.History at 0x7f748e2f7b00>"
      ]
     },
     "execution_count": 3,
     "metadata": {},
     "output_type": "execute_result"
    }
   ],
   "source": [
    "import keras\n",
    "from keras.datasets import mnist\n",
    "from keras.models import Sequential\n",
    "from keras.layers import Dense, Dropout, Flatten\n",
    "from keras.layers import Conv2D, MaxPooling2D\n",
    "from keras import backend as K\n",
    "\n",
    "model = Sequential()\n",
    "model.add(Dense(32, activation='relu', input_dim=100))\n",
    "model.add(Dense(1, activation='sigmoid'))\n",
    "model.compile(optimizer='rmsprop',\n",
    "              loss='binary_crossentropy',\n",
    "              metrics=['accuracy'])\n",
    "\n",
    "# Generate dummy data\n",
    "import numpy as np\n",
    "data = np.random.random((1000, 100))\n",
    "labels = np.random.randint(2, size=(1000, 1))\n",
    "\n",
    "# Train the model, iterating on the data in batches of 32 samples\n",
    "model.fit(data, labels, epochs=10, batch_size=32)"
   ]
  },
  {
   "cell_type": "code",
   "execution_count": null,
   "metadata": {},
   "outputs": [],
   "source": []
  }
 ],
 "metadata": {
  "kernelspec": {
   "display_name": "Python 3.6",
   "language": "python",
   "name": "python36"
  },
  "language_info": {
   "codemirror_mode": {
    "name": "ipython",
    "version": 3
   },
   "file_extension": ".py",
   "mimetype": "text/x-python",
   "name": "python",
   "nbconvert_exporter": "python",
   "pygments_lexer": "ipython3",
   "version": "3.6.3"
  }
 },
 "nbformat": 4,
 "nbformat_minor": 2
}
